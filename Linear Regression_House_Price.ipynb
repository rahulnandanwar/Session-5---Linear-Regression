{
 "cells": [
  {
   "cell_type": "markdown",
   "metadata": {},
   "source": [
    "# NDL Training #5: Linear Regression\n",
    "\n",
    "To motivate our example of Linear Regression, we will be looking at the problem of predicitng housing prices based on some given features. This notebook will help to give you a bit of a flavor of what it's like to perform predictive analytics on a given dataset. By the end of this, you should have a good enough understanding of the process behind machine learning and being able to leverage scikit-learn to perform regression analysis.\n",
    "\n",
    "\n",
    "Let's start off by importing some of the required libraries we will need for today..."
   ]
  },
  {
   "cell_type": "code",
   "execution_count": 303,
   "metadata": {},
   "outputs": [],
   "source": [
    "import numpy as np\n",
    "import pandas as pd\n",
    "from numpy import genfromtxt\n",
    "from sklearn import linear_model\n",
    "from sklearn.cross_validation import train_test_split, cross_val_score"
   ]
  },
  {
   "cell_type": "markdown",
   "metadata": {},
   "source": [
    "## Importing the Data\n",
    "First we will have to import the data. We will use pandas again to import our CSV file.\n",
    "\n",
    "Let's take a look at the first few records to see what we are working with..."
   ]
  },
  {
   "cell_type": "code",
   "execution_count": 304,
   "metadata": {},
   "outputs": [
    {
     "data": {
      "text/html": [
       "<div>\n",
       "<table border=\"1\" class=\"dataframe\">\n",
       "  <thead>\n",
       "    <tr style=\"text-align: right;\">\n",
       "      <th></th>\n",
       "      <th>ADDRESS</th>\n",
       "      <th>CITY</th>\n",
       "      <th>STATE</th>\n",
       "      <th>ZIP</th>\n",
       "      <th>LAST SOLD PRICE</th>\n",
       "      <th>BEDS</th>\n",
       "      <th>BATHS</th>\n",
       "      <th>SQFT</th>\n",
       "      <th>LOT SIZE</th>\n",
       "      <th>YEAR BUILT</th>\n",
       "      <th>DAYS ON MARKET</th>\n",
       "      <th>LATITUDE</th>\n",
       "      <th>LONGITUDE</th>\n",
       "    </tr>\n",
       "  </thead>\n",
       "  <tbody>\n",
       "    <tr>\n",
       "      <th>0</th>\n",
       "      <td>3214 Tenafly Rd</td>\n",
       "      <td>Tenafly</td>\n",
       "      <td>NJ</td>\n",
       "      <td>7670.0</td>\n",
       "      <td>NaN</td>\n",
       "      <td>0</td>\n",
       "      <td>NaN</td>\n",
       "      <td>857.0</td>\n",
       "      <td>NaN</td>\n",
       "      <td>2009.0</td>\n",
       "      <td>NaN</td>\n",
       "      <td>NaN</td>\n",
       "      <td>NaN</td>\n",
       "    </tr>\n",
       "    <tr>\n",
       "      <th>1</th>\n",
       "      <td>3216 Tenafly Rd</td>\n",
       "      <td>Tenafly</td>\n",
       "      <td>NJ</td>\n",
       "      <td>7670.0</td>\n",
       "      <td>NaN</td>\n",
       "      <td>0</td>\n",
       "      <td>NaN</td>\n",
       "      <td>857.0</td>\n",
       "      <td>NaN</td>\n",
       "      <td>2009.0</td>\n",
       "      <td>NaN</td>\n",
       "      <td>NaN</td>\n",
       "      <td>NaN</td>\n",
       "    </tr>\n",
       "    <tr>\n",
       "      <th>2</th>\n",
       "      <td>10 Lindley Ave</td>\n",
       "      <td>Tenafly</td>\n",
       "      <td>NJ</td>\n",
       "      <td>7670.0</td>\n",
       "      <td>NaN</td>\n",
       "      <td>0</td>\n",
       "      <td>NaN</td>\n",
       "      <td>1673.0</td>\n",
       "      <td>8999.0</td>\n",
       "      <td>1929.0</td>\n",
       "      <td>NaN</td>\n",
       "      <td>40.915855</td>\n",
       "      <td>-73.967985</td>\n",
       "    </tr>\n",
       "    <tr>\n",
       "      <th>3</th>\n",
       "      <td>154 Sussex Rd</td>\n",
       "      <td>Tenafly</td>\n",
       "      <td>NJ</td>\n",
       "      <td>7670.0</td>\n",
       "      <td>NaN</td>\n",
       "      <td>0</td>\n",
       "      <td>NaN</td>\n",
       "      <td>1560.0</td>\n",
       "      <td>5001.0</td>\n",
       "      <td>1923.0</td>\n",
       "      <td>NaN</td>\n",
       "      <td>40.919838</td>\n",
       "      <td>-73.976657</td>\n",
       "    </tr>\n",
       "    <tr>\n",
       "      <th>4</th>\n",
       "      <td>440 Tenafly Rd</td>\n",
       "      <td>Tenafly</td>\n",
       "      <td>NJ</td>\n",
       "      <td>7670.0</td>\n",
       "      <td>NaN</td>\n",
       "      <td>0</td>\n",
       "      <td>NaN</td>\n",
       "      <td>1116.0</td>\n",
       "      <td>3001.0</td>\n",
       "      <td>1918.0</td>\n",
       "      <td>NaN</td>\n",
       "      <td>40.928185</td>\n",
       "      <td>-73.966226</td>\n",
       "    </tr>\n",
       "    <tr>\n",
       "      <th>5</th>\n",
       "      <td>27 W Clinton Ave Apt 3G</td>\n",
       "      <td>Tenafly</td>\n",
       "      <td>NJ</td>\n",
       "      <td>7670.0</td>\n",
       "      <td>NaN</td>\n",
       "      <td>0</td>\n",
       "      <td>NaN</td>\n",
       "      <td>918.0</td>\n",
       "      <td>NaN</td>\n",
       "      <td>1983.0</td>\n",
       "      <td>NaN</td>\n",
       "      <td>40.924344</td>\n",
       "      <td>-73.967092</td>\n",
       "    </tr>\n",
       "    <tr>\n",
       "      <th>6</th>\n",
       "      <td>97 Kent Rd</td>\n",
       "      <td>Tenafly</td>\n",
       "      <td>NJ</td>\n",
       "      <td>7670.0</td>\n",
       "      <td>NaN</td>\n",
       "      <td>0</td>\n",
       "      <td>NaN</td>\n",
       "      <td>3818.0</td>\n",
       "      <td>40511.0</td>\n",
       "      <td>1956.0</td>\n",
       "      <td>NaN</td>\n",
       "      <td>40.908922</td>\n",
       "      <td>-73.947047</td>\n",
       "    </tr>\n",
       "    <tr>\n",
       "      <th>7</th>\n",
       "      <td>35 Chestnut St</td>\n",
       "      <td>Tenafly</td>\n",
       "      <td>NJ</td>\n",
       "      <td>7670.0</td>\n",
       "      <td>295000.0</td>\n",
       "      <td>2</td>\n",
       "      <td>1.0</td>\n",
       "      <td>NaN</td>\n",
       "      <td>3101.0</td>\n",
       "      <td>NaN</td>\n",
       "      <td>47.0</td>\n",
       "      <td>40.928019</td>\n",
       "      <td>-73.966363</td>\n",
       "    </tr>\n",
       "    <tr>\n",
       "      <th>8</th>\n",
       "      <td>103 Palmer Ave</td>\n",
       "      <td>Tenafly</td>\n",
       "      <td>NJ</td>\n",
       "      <td>7670.0</td>\n",
       "      <td>NaN</td>\n",
       "      <td>0</td>\n",
       "      <td>NaN</td>\n",
       "      <td>2472.0</td>\n",
       "      <td>11038.0</td>\n",
       "      <td>1951.0</td>\n",
       "      <td>NaN</td>\n",
       "      <td>40.916950</td>\n",
       "      <td>-73.975300</td>\n",
       "    </tr>\n",
       "    <tr>\n",
       "      <th>9</th>\n",
       "      <td>55 Newcomb Rd</td>\n",
       "      <td>Tenafly</td>\n",
       "      <td>NJ</td>\n",
       "      <td>7670.0</td>\n",
       "      <td>NaN</td>\n",
       "      <td>0</td>\n",
       "      <td>NaN</td>\n",
       "      <td>1120.0</td>\n",
       "      <td>8999.0</td>\n",
       "      <td>1960.0</td>\n",
       "      <td>NaN</td>\n",
       "      <td>40.932718</td>\n",
       "      <td>-73.967776</td>\n",
       "    </tr>\n",
       "  </tbody>\n",
       "</table>\n",
       "</div>"
      ],
      "text/plain": [
       "                   ADDRESS     CITY STATE     ZIP  LAST SOLD PRICE  BEDS  \\\n",
       "0          3214 Tenafly Rd  Tenafly    NJ  7670.0              NaN     0   \n",
       "1          3216 Tenafly Rd  Tenafly    NJ  7670.0              NaN     0   \n",
       "2           10 Lindley Ave  Tenafly    NJ  7670.0              NaN     0   \n",
       "3            154 Sussex Rd  Tenafly    NJ  7670.0              NaN     0   \n",
       "4           440 Tenafly Rd  Tenafly    NJ  7670.0              NaN     0   \n",
       "5  27 W Clinton Ave Apt 3G  Tenafly    NJ  7670.0              NaN     0   \n",
       "6               97 Kent Rd  Tenafly    NJ  7670.0              NaN     0   \n",
       "7           35 Chestnut St  Tenafly    NJ  7670.0         295000.0     2   \n",
       "8           103 Palmer Ave  Tenafly    NJ  7670.0              NaN     0   \n",
       "9            55 Newcomb Rd  Tenafly    NJ  7670.0              NaN     0   \n",
       "\n",
       "   BATHS    SQFT  LOT SIZE  YEAR BUILT  DAYS ON MARKET   LATITUDE  LONGITUDE  \n",
       "0    NaN   857.0       NaN      2009.0             NaN        NaN        NaN  \n",
       "1    NaN   857.0       NaN      2009.0             NaN        NaN        NaN  \n",
       "2    NaN  1673.0    8999.0      1929.0             NaN  40.915855 -73.967985  \n",
       "3    NaN  1560.0    5001.0      1923.0             NaN  40.919838 -73.976657  \n",
       "4    NaN  1116.0    3001.0      1918.0             NaN  40.928185 -73.966226  \n",
       "5    NaN   918.0       NaN      1983.0             NaN  40.924344 -73.967092  \n",
       "6    NaN  3818.0   40511.0      1956.0             NaN  40.908922 -73.947047  \n",
       "7    1.0     NaN    3101.0         NaN            47.0  40.928019 -73.966363  \n",
       "8    NaN  2472.0   11038.0      1951.0             NaN  40.916950 -73.975300  \n",
       "9    NaN  1120.0    8999.0      1960.0             NaN  40.932718 -73.967776  "
      ]
     },
     "execution_count": 304,
     "metadata": {},
     "output_type": "execute_result"
    }
   ],
   "source": [
    "data = pd.read_csv('Sold Tenafly Houses.csv')\n",
    "data.head(10)"
   ]
  },
  {
   "cell_type": "markdown",
   "metadata": {},
   "source": [
    "## Exploratory Data Analysis\n",
    "Before we start diving into the dataset and building our models, let's take a look at the data and explore some statistical properties of the dataset. In this process, we will also look at what data we might want to potentially utilize for our input into our regression model.\n",
    "\n",
    "Notice when we saw the first few rows of the data, there are many values with `NaN` or empty values. We will have to find some way to mitigate this issue by performing some preprocessing methods.\n",
    "\n",
    "### Last Sold Price\n",
    "Let's start by looking at the last sold price, our **target values** for our regression problem. \n",
    "\n",
    "It would probably be best if we removed any NaN values in this column, since we will need all samples to have a price listed or else it we would not have the corresponding values to learn about for every features.\n",
    "So let's start by selecting only the rows where the data is not null (or NaN in this case)..."
   ]
  },
  {
   "cell_type": "code",
   "execution_count": 305,
   "metadata": {},
   "outputs": [
    {
     "data": {
      "text/html": [
       "<div>\n",
       "<table border=\"1\" class=\"dataframe\">\n",
       "  <thead>\n",
       "    <tr style=\"text-align: right;\">\n",
       "      <th></th>\n",
       "      <th>ADDRESS</th>\n",
       "      <th>CITY</th>\n",
       "      <th>STATE</th>\n",
       "      <th>ZIP</th>\n",
       "      <th>LAST SOLD PRICE</th>\n",
       "      <th>BEDS</th>\n",
       "      <th>BATHS</th>\n",
       "      <th>SQFT</th>\n",
       "      <th>LOT SIZE</th>\n",
       "      <th>YEAR BUILT</th>\n",
       "      <th>DAYS ON MARKET</th>\n",
       "      <th>LATITUDE</th>\n",
       "      <th>LONGITUDE</th>\n",
       "    </tr>\n",
       "  </thead>\n",
       "  <tbody>\n",
       "    <tr>\n",
       "      <th>7</th>\n",
       "      <td>35 Chestnut St</td>\n",
       "      <td>Tenafly</td>\n",
       "      <td>NJ</td>\n",
       "      <td>7670.0</td>\n",
       "      <td>295000.0</td>\n",
       "      <td>2</td>\n",
       "      <td>1.0</td>\n",
       "      <td>NaN</td>\n",
       "      <td>3101.0</td>\n",
       "      <td>NaN</td>\n",
       "      <td>47.0</td>\n",
       "      <td>40.928019</td>\n",
       "      <td>-73.966363</td>\n",
       "    </tr>\n",
       "    <tr>\n",
       "      <th>15</th>\n",
       "      <td>39 Westervelt Ave</td>\n",
       "      <td>Tenafly</td>\n",
       "      <td>NJ</td>\n",
       "      <td>7670.0</td>\n",
       "      <td>360000.0</td>\n",
       "      <td>2</td>\n",
       "      <td>2.0</td>\n",
       "      <td>NaN</td>\n",
       "      <td>NaN</td>\n",
       "      <td>NaN</td>\n",
       "      <td>80.0</td>\n",
       "      <td>40.919750</td>\n",
       "      <td>-73.965054</td>\n",
       "    </tr>\n",
       "    <tr>\n",
       "      <th>17</th>\n",
       "      <td>179 Riveredge Rd</td>\n",
       "      <td>Tenafly</td>\n",
       "      <td>NJ</td>\n",
       "      <td>7670.0</td>\n",
       "      <td>365000.0</td>\n",
       "      <td>3</td>\n",
       "      <td>1.0</td>\n",
       "      <td>NaN</td>\n",
       "      <td>8006.0</td>\n",
       "      <td>NaN</td>\n",
       "      <td>414.0</td>\n",
       "      <td>40.927870</td>\n",
       "      <td>-73.974405</td>\n",
       "    </tr>\n",
       "    <tr>\n",
       "      <th>20</th>\n",
       "      <td>339 W Clinton Ave</td>\n",
       "      <td>Tenafly</td>\n",
       "      <td>NJ</td>\n",
       "      <td>7670.0</td>\n",
       "      <td>385000.0</td>\n",
       "      <td>3</td>\n",
       "      <td>2.0</td>\n",
       "      <td>NaN</td>\n",
       "      <td>6299.0</td>\n",
       "      <td>NaN</td>\n",
       "      <td>288.0</td>\n",
       "      <td>40.924534</td>\n",
       "      <td>-73.981633</td>\n",
       "    </tr>\n",
       "    <tr>\n",
       "      <th>21</th>\n",
       "      <td>36 Coleman Ter</td>\n",
       "      <td>Tenafly</td>\n",
       "      <td>NJ</td>\n",
       "      <td>7670.0</td>\n",
       "      <td>390500.0</td>\n",
       "      <td>2</td>\n",
       "      <td>1.5</td>\n",
       "      <td>NaN</td>\n",
       "      <td>7000.0</td>\n",
       "      <td>NaN</td>\n",
       "      <td>191.0</td>\n",
       "      <td>40.917189</td>\n",
       "      <td>-73.972879</td>\n",
       "    </tr>\n",
       "  </tbody>\n",
       "</table>\n",
       "</div>"
      ],
      "text/plain": [
       "              ADDRESS     CITY STATE     ZIP  LAST SOLD PRICE  BEDS  BATHS  \\\n",
       "7      35 Chestnut St  Tenafly    NJ  7670.0         295000.0     2    1.0   \n",
       "15  39 Westervelt Ave  Tenafly    NJ  7670.0         360000.0     2    2.0   \n",
       "17   179 Riveredge Rd  Tenafly    NJ  7670.0         365000.0     3    1.0   \n",
       "20  339 W Clinton Ave  Tenafly    NJ  7670.0         385000.0     3    2.0   \n",
       "21     36 Coleman Ter  Tenafly    NJ  7670.0         390500.0     2    1.5   \n",
       "\n",
       "    SQFT  LOT SIZE  YEAR BUILT  DAYS ON MARKET   LATITUDE  LONGITUDE  \n",
       "7    NaN    3101.0         NaN            47.0  40.928019 -73.966363  \n",
       "15   NaN       NaN         NaN            80.0  40.919750 -73.965054  \n",
       "17   NaN    8006.0         NaN           414.0  40.927870 -73.974405  \n",
       "20   NaN    6299.0         NaN           288.0  40.924534 -73.981633  \n",
       "21   NaN    7000.0         NaN           191.0  40.917189 -73.972879  "
      ]
     },
     "execution_count": 305,
     "metadata": {},
     "output_type": "execute_result"
    }
   ],
   "source": [
    "data = data[pd.notnull(data['LAST SOLD PRICE'])]\n",
    "data.head(5)"
   ]
  },
  {
   "cell_type": "markdown",
   "metadata": {},
   "source": [
    "Now for some descriptive stats regarding the Last Sold Price..."
   ]
  },
  {
   "cell_type": "code",
   "execution_count": 306,
   "metadata": {},
   "outputs": [
    {
     "name": "stdout",
     "output_type": "stream",
     "text": [
      "(184, 13)\n"
     ]
    },
    {
     "data": {
      "text/plain": [
       "count    1.840000e+02\n",
       "mean     1.085071e+06\n",
       "std      7.176260e+05\n",
       "min      2.950000e+05\n",
       "25%      6.187500e+05\n",
       "50%      8.465000e+05\n",
       "75%      1.277500e+06\n",
       "max      4.450000e+06\n",
       "Name: LAST SOLD PRICE, dtype: float64"
      ]
     },
     "execution_count": 306,
     "metadata": {},
     "output_type": "execute_result"
    }
   ],
   "source": [
    "print data.shape # Our new dataset dimension\n",
    "data['LAST SOLD PRICE'].describe()"
   ]
  },
  {
   "cell_type": "markdown",
   "metadata": {},
   "source": [
    "### Bed, Bath and Beyond!\n",
    "Now let's check out some of the input features we have in the dataset, primarily to see how many NaNs they might have and if we can somehow augment the dataset a bit to make it easier for us to work with.\n",
    "\n",
    "There are certainly many different ways we can approach this, but we will only try few techniques on how to handle missing data."
   ]
  },
  {
   "cell_type": "code",
   "execution_count": 307,
   "metadata": {},
   "outputs": [
    {
     "name": "stdout",
     "output_type": "stream",
     "text": [
      "NaN Count: 0\n"
     ]
    },
    {
     "data": {
      "text/plain": [
       "count    184.000000\n",
       "mean       4.206522\n",
       "std        1.192307\n",
       "min        2.000000\n",
       "25%        3.000000\n",
       "50%        4.000000\n",
       "75%        5.000000\n",
       "max        8.000000\n",
       "Name: BEDS, dtype: float64"
      ]
     },
     "execution_count": 307,
     "metadata": {},
     "output_type": "execute_result"
    }
   ],
   "source": [
    "# Beds\n",
    "print 'NaN Count: ' + str(data['BEDS'].isnull().sum())    # Great! We have no NaNs!\n",
    "data['BEDS'].describe()"
   ]
  },
  {
   "cell_type": "code",
   "execution_count": 308,
   "metadata": {},
   "outputs": [
    {
     "name": "stdout",
     "output_type": "stream",
     "text": [
      "NaN Count: 0\n"
     ]
    },
    {
     "data": {
      "text/plain": [
       "count    184.000000\n",
       "mean       3.326087\n",
       "std        1.514835\n",
       "min        1.000000\n",
       "25%        2.375000\n",
       "50%        3.000000\n",
       "75%        4.000000\n",
       "max        9.500000\n",
       "Name: BATHS, dtype: float64"
      ]
     },
     "execution_count": 308,
     "metadata": {},
     "output_type": "execute_result"
    }
   ],
   "source": [
    "# Baths\n",
    "print 'NaN Count: ' + str(data['BATHS'].isnull().sum())    # Great! We have no NaNs!\n",
    "data['BATHS'].describe()"
   ]
  },
  {
   "cell_type": "markdown",
   "metadata": {},
   "source": [
    "Now let's look at square foot and lot size. For those that are not really familiar with housing terminology:\n",
    "* **Sq Foot** refers to how much does your house take up floor area wise.\n",
    "* **Lot Size** refers to the size of the land or property that you own."
   ]
  },
  {
   "cell_type": "code",
   "execution_count": 309,
   "metadata": {},
   "outputs": [
    {
     "name": "stdout",
     "output_type": "stream",
     "text": [
      "NaN Count: 184\n"
     ]
    }
   ],
   "source": [
    "# Sq Feet\n",
    "print 'NaN Count: ' + str(data['SQFT'].isnull().sum())    # Hmm, pretty much SQFT is useless in this dataset. Let's throw this out!\n",
    "del data['SQFT']  # Drop the SQFT column from our dataset"
   ]
  },
  {
   "cell_type": "code",
   "execution_count": 310,
   "metadata": {},
   "outputs": [
    {
     "name": "stdout",
     "output_type": "stream",
     "text": [
      "NaN Count: 16\n"
     ]
    },
    {
     "data": {
      "text/html": [
       "<div>\n",
       "<table border=\"1\" class=\"dataframe\">\n",
       "  <thead>\n",
       "    <tr style=\"text-align: right;\">\n",
       "      <th></th>\n",
       "      <th>ADDRESS</th>\n",
       "      <th>CITY</th>\n",
       "      <th>STATE</th>\n",
       "      <th>ZIP</th>\n",
       "      <th>LAST SOLD PRICE</th>\n",
       "      <th>BEDS</th>\n",
       "      <th>BATHS</th>\n",
       "      <th>LOT SIZE</th>\n",
       "      <th>YEAR BUILT</th>\n",
       "      <th>DAYS ON MARKET</th>\n",
       "      <th>LATITUDE</th>\n",
       "      <th>LONGITUDE</th>\n",
       "    </tr>\n",
       "  </thead>\n",
       "  <tbody>\n",
       "    <tr>\n",
       "      <th>7</th>\n",
       "      <td>35 Chestnut St</td>\n",
       "      <td>Tenafly</td>\n",
       "      <td>NJ</td>\n",
       "      <td>7670.0</td>\n",
       "      <td>295000.0</td>\n",
       "      <td>2</td>\n",
       "      <td>1.0</td>\n",
       "      <td>3101.000000</td>\n",
       "      <td>NaN</td>\n",
       "      <td>47.0</td>\n",
       "      <td>40.928019</td>\n",
       "      <td>-73.966363</td>\n",
       "    </tr>\n",
       "    <tr>\n",
       "      <th>15</th>\n",
       "      <td>39 Westervelt Ave</td>\n",
       "      <td>Tenafly</td>\n",
       "      <td>NJ</td>\n",
       "      <td>7670.0</td>\n",
       "      <td>360000.0</td>\n",
       "      <td>2</td>\n",
       "      <td>2.0</td>\n",
       "      <td>16497.964286</td>\n",
       "      <td>NaN</td>\n",
       "      <td>80.0</td>\n",
       "      <td>40.919750</td>\n",
       "      <td>-73.965054</td>\n",
       "    </tr>\n",
       "    <tr>\n",
       "      <th>17</th>\n",
       "      <td>179 Riveredge Rd</td>\n",
       "      <td>Tenafly</td>\n",
       "      <td>NJ</td>\n",
       "      <td>7670.0</td>\n",
       "      <td>365000.0</td>\n",
       "      <td>3</td>\n",
       "      <td>1.0</td>\n",
       "      <td>8006.000000</td>\n",
       "      <td>NaN</td>\n",
       "      <td>414.0</td>\n",
       "      <td>40.927870</td>\n",
       "      <td>-73.974405</td>\n",
       "    </tr>\n",
       "    <tr>\n",
       "      <th>20</th>\n",
       "      <td>339 W Clinton Ave</td>\n",
       "      <td>Tenafly</td>\n",
       "      <td>NJ</td>\n",
       "      <td>7670.0</td>\n",
       "      <td>385000.0</td>\n",
       "      <td>3</td>\n",
       "      <td>2.0</td>\n",
       "      <td>6299.000000</td>\n",
       "      <td>NaN</td>\n",
       "      <td>288.0</td>\n",
       "      <td>40.924534</td>\n",
       "      <td>-73.981633</td>\n",
       "    </tr>\n",
       "    <tr>\n",
       "      <th>21</th>\n",
       "      <td>36 Coleman Ter</td>\n",
       "      <td>Tenafly</td>\n",
       "      <td>NJ</td>\n",
       "      <td>7670.0</td>\n",
       "      <td>390500.0</td>\n",
       "      <td>2</td>\n",
       "      <td>1.5</td>\n",
       "      <td>7000.000000</td>\n",
       "      <td>NaN</td>\n",
       "      <td>191.0</td>\n",
       "      <td>40.917189</td>\n",
       "      <td>-73.972879</td>\n",
       "    </tr>\n",
       "  </tbody>\n",
       "</table>\n",
       "</div>"
      ],
      "text/plain": [
       "              ADDRESS     CITY STATE     ZIP  LAST SOLD PRICE  BEDS  BATHS  \\\n",
       "7      35 Chestnut St  Tenafly    NJ  7670.0         295000.0     2    1.0   \n",
       "15  39 Westervelt Ave  Tenafly    NJ  7670.0         360000.0     2    2.0   \n",
       "17   179 Riveredge Rd  Tenafly    NJ  7670.0         365000.0     3    1.0   \n",
       "20  339 W Clinton Ave  Tenafly    NJ  7670.0         385000.0     3    2.0   \n",
       "21     36 Coleman Ter  Tenafly    NJ  7670.0         390500.0     2    1.5   \n",
       "\n",
       "        LOT SIZE  YEAR BUILT  DAYS ON MARKET   LATITUDE  LONGITUDE  \n",
       "7    3101.000000         NaN            47.0  40.928019 -73.966363  \n",
       "15  16497.964286         NaN            80.0  40.919750 -73.965054  \n",
       "17   8006.000000         NaN           414.0  40.927870 -73.974405  \n",
       "20   6299.000000         NaN           288.0  40.924534 -73.981633  \n",
       "21   7000.000000         NaN           191.0  40.917189 -73.972879  "
      ]
     },
     "execution_count": 310,
     "metadata": {},
     "output_type": "execute_result"
    }
   ],
   "source": [
    "# Lot Size\n",
    "print 'NaN Count: ' + str(data['LOT SIZE'].isnull().sum())  # Okay, good enough... let's see if we can try some imputation!\n",
    "\n",
    "data['LOT SIZE'] = data['LOT SIZE'].fillna(data['LOT SIZE'].mean())  # Perform imputation and fill it by the mean value of the lot size column.\n",
    "data.head(5)"
   ]
  },
  {
   "cell_type": "code",
   "execution_count": 311,
   "metadata": {},
   "outputs": [
    {
     "name": "stdout",
     "output_type": "stream",
     "text": [
      "NaN Count: 184\n"
     ]
    }
   ],
   "source": [
    "# Year Built - Also useless, throwing away...\n",
    "print 'NaN Count: ' + str(data['YEAR BUILT'].isnull().sum())\n",
    "del data['YEAR BUILT']"
   ]
  },
  {
   "cell_type": "code",
   "execution_count": 312,
   "metadata": {},
   "outputs": [
    {
     "name": "stdout",
     "output_type": "stream",
     "text": [
      "NaN Count: 0\n"
     ]
    },
    {
     "data": {
      "text/plain": [
       "count    184.000000\n",
       "mean     216.201087\n",
       "std      146.833565\n",
       "min        1.000000\n",
       "25%       85.250000\n",
       "50%      194.500000\n",
       "75%      370.750000\n",
       "max      444.000000\n",
       "Name: DAYS ON MARKET, dtype: float64"
      ]
     },
     "execution_count": 312,
     "metadata": {},
     "output_type": "execute_result"
    }
   ],
   "source": [
    "# Days on Market\n",
    "print 'NaN Count: ' + str(data['DAYS ON MARKET'].isnull().sum())  # Perfect, no NaNs!\n",
    "data['DAYS ON MARKET'].describe()"
   ]
  },
  {
   "cell_type": "markdown",
   "metadata": {},
   "source": [
    "### Data Set Final Form\n",
    "Here is the dataset in it's final form. For our first regression analysis, we will use **Lot Size** as our input into the model.\n",
    "\n",
    "As for other interesting types of exploratory data analysis, consider some of the following analysis as an exercise:\n",
    "* House Numbers\n",
    "* Counts of Street Names ending with St, Ave, Ter, Rd, Dr, etc.\n",
    "* Analysis on the street names themselves\n",
    "* Longitude and Latitude"
   ]
  },
  {
   "cell_type": "code",
   "execution_count": 313,
   "metadata": {},
   "outputs": [
    {
     "data": {
      "text/html": [
       "<div>\n",
       "<table border=\"1\" class=\"dataframe\">\n",
       "  <thead>\n",
       "    <tr style=\"text-align: right;\">\n",
       "      <th></th>\n",
       "      <th>ADDRESS</th>\n",
       "      <th>CITY</th>\n",
       "      <th>STATE</th>\n",
       "      <th>ZIP</th>\n",
       "      <th>LAST SOLD PRICE</th>\n",
       "      <th>BEDS</th>\n",
       "      <th>BATHS</th>\n",
       "      <th>LOT SIZE</th>\n",
       "      <th>DAYS ON MARKET</th>\n",
       "      <th>LATITUDE</th>\n",
       "      <th>LONGITUDE</th>\n",
       "    </tr>\n",
       "  </thead>\n",
       "  <tbody>\n",
       "    <tr>\n",
       "      <th>7</th>\n",
       "      <td>35 Chestnut St</td>\n",
       "      <td>Tenafly</td>\n",
       "      <td>NJ</td>\n",
       "      <td>7670.0</td>\n",
       "      <td>295000.0</td>\n",
       "      <td>2</td>\n",
       "      <td>1.0</td>\n",
       "      <td>3101.000000</td>\n",
       "      <td>47.0</td>\n",
       "      <td>40.928019</td>\n",
       "      <td>-73.966363</td>\n",
       "    </tr>\n",
       "    <tr>\n",
       "      <th>15</th>\n",
       "      <td>39 Westervelt Ave</td>\n",
       "      <td>Tenafly</td>\n",
       "      <td>NJ</td>\n",
       "      <td>7670.0</td>\n",
       "      <td>360000.0</td>\n",
       "      <td>2</td>\n",
       "      <td>2.0</td>\n",
       "      <td>16497.964286</td>\n",
       "      <td>80.0</td>\n",
       "      <td>40.919750</td>\n",
       "      <td>-73.965054</td>\n",
       "    </tr>\n",
       "    <tr>\n",
       "      <th>17</th>\n",
       "      <td>179 Riveredge Rd</td>\n",
       "      <td>Tenafly</td>\n",
       "      <td>NJ</td>\n",
       "      <td>7670.0</td>\n",
       "      <td>365000.0</td>\n",
       "      <td>3</td>\n",
       "      <td>1.0</td>\n",
       "      <td>8006.000000</td>\n",
       "      <td>414.0</td>\n",
       "      <td>40.927870</td>\n",
       "      <td>-73.974405</td>\n",
       "    </tr>\n",
       "    <tr>\n",
       "      <th>20</th>\n",
       "      <td>339 W Clinton Ave</td>\n",
       "      <td>Tenafly</td>\n",
       "      <td>NJ</td>\n",
       "      <td>7670.0</td>\n",
       "      <td>385000.0</td>\n",
       "      <td>3</td>\n",
       "      <td>2.0</td>\n",
       "      <td>6299.000000</td>\n",
       "      <td>288.0</td>\n",
       "      <td>40.924534</td>\n",
       "      <td>-73.981633</td>\n",
       "    </tr>\n",
       "    <tr>\n",
       "      <th>21</th>\n",
       "      <td>36 Coleman Ter</td>\n",
       "      <td>Tenafly</td>\n",
       "      <td>NJ</td>\n",
       "      <td>7670.0</td>\n",
       "      <td>390500.0</td>\n",
       "      <td>2</td>\n",
       "      <td>1.5</td>\n",
       "      <td>7000.000000</td>\n",
       "      <td>191.0</td>\n",
       "      <td>40.917189</td>\n",
       "      <td>-73.972879</td>\n",
       "    </tr>\n",
       "    <tr>\n",
       "      <th>22</th>\n",
       "      <td>8 Cambridge Rd</td>\n",
       "      <td>Tenafly</td>\n",
       "      <td>NJ</td>\n",
       "      <td>7670.0</td>\n",
       "      <td>400000.0</td>\n",
       "      <td>5</td>\n",
       "      <td>2.0</td>\n",
       "      <td>5998.000000</td>\n",
       "      <td>69.0</td>\n",
       "      <td>40.932097</td>\n",
       "      <td>-73.979978</td>\n",
       "    </tr>\n",
       "    <tr>\n",
       "      <th>25</th>\n",
       "      <td>91 Columbus Dr</td>\n",
       "      <td>Tenafly</td>\n",
       "      <td>NJ</td>\n",
       "      <td>7670.0</td>\n",
       "      <td>401000.0</td>\n",
       "      <td>3</td>\n",
       "      <td>1.0</td>\n",
       "      <td>5000.000000</td>\n",
       "      <td>430.0</td>\n",
       "      <td>40.931637</td>\n",
       "      <td>-73.970518</td>\n",
       "    </tr>\n",
       "    <tr>\n",
       "      <th>30</th>\n",
       "      <td>40 Dean Dr</td>\n",
       "      <td>Tenafly</td>\n",
       "      <td>NJ</td>\n",
       "      <td>7670.0</td>\n",
       "      <td>430000.0</td>\n",
       "      <td>4</td>\n",
       "      <td>2.0</td>\n",
       "      <td>15873.000000</td>\n",
       "      <td>345.0</td>\n",
       "      <td>40.915182</td>\n",
       "      <td>-73.966000</td>\n",
       "    </tr>\n",
       "    <tr>\n",
       "      <th>31</th>\n",
       "      <td>1 Daisy Pl</td>\n",
       "      <td>Tenafly</td>\n",
       "      <td>NJ</td>\n",
       "      <td>7670.0</td>\n",
       "      <td>437000.0</td>\n",
       "      <td>3</td>\n",
       "      <td>2.0</td>\n",
       "      <td>5001.000000</td>\n",
       "      <td>142.0</td>\n",
       "      <td>40.929515</td>\n",
       "      <td>-73.973392</td>\n",
       "    </tr>\n",
       "    <tr>\n",
       "      <th>33</th>\n",
       "      <td>553 Knickerbocker Rd</td>\n",
       "      <td>Tenafly</td>\n",
       "      <td>NJ</td>\n",
       "      <td>7670.0</td>\n",
       "      <td>450000.0</td>\n",
       "      <td>2</td>\n",
       "      <td>2.0</td>\n",
       "      <td>8799.000000</td>\n",
       "      <td>121.0</td>\n",
       "      <td>40.931677</td>\n",
       "      <td>-73.977809</td>\n",
       "    </tr>\n",
       "  </tbody>\n",
       "</table>\n",
       "</div>"
      ],
      "text/plain": [
       "                 ADDRESS     CITY STATE     ZIP  LAST SOLD PRICE  BEDS  BATHS  \\\n",
       "7         35 Chestnut St  Tenafly    NJ  7670.0         295000.0     2    1.0   \n",
       "15     39 Westervelt Ave  Tenafly    NJ  7670.0         360000.0     2    2.0   \n",
       "17      179 Riveredge Rd  Tenafly    NJ  7670.0         365000.0     3    1.0   \n",
       "20     339 W Clinton Ave  Tenafly    NJ  7670.0         385000.0     3    2.0   \n",
       "21        36 Coleman Ter  Tenafly    NJ  7670.0         390500.0     2    1.5   \n",
       "22        8 Cambridge Rd  Tenafly    NJ  7670.0         400000.0     5    2.0   \n",
       "25        91 Columbus Dr  Tenafly    NJ  7670.0         401000.0     3    1.0   \n",
       "30            40 Dean Dr  Tenafly    NJ  7670.0         430000.0     4    2.0   \n",
       "31            1 Daisy Pl  Tenafly    NJ  7670.0         437000.0     3    2.0   \n",
       "33  553 Knickerbocker Rd  Tenafly    NJ  7670.0         450000.0     2    2.0   \n",
       "\n",
       "        LOT SIZE  DAYS ON MARKET   LATITUDE  LONGITUDE  \n",
       "7    3101.000000            47.0  40.928019 -73.966363  \n",
       "15  16497.964286            80.0  40.919750 -73.965054  \n",
       "17   8006.000000           414.0  40.927870 -73.974405  \n",
       "20   6299.000000           288.0  40.924534 -73.981633  \n",
       "21   7000.000000           191.0  40.917189 -73.972879  \n",
       "22   5998.000000            69.0  40.932097 -73.979978  \n",
       "25   5000.000000           430.0  40.931637 -73.970518  \n",
       "30  15873.000000           345.0  40.915182 -73.966000  \n",
       "31   5001.000000           142.0  40.929515 -73.973392  \n",
       "33   8799.000000           121.0  40.931677 -73.977809  "
      ]
     },
     "execution_count": 313,
     "metadata": {},
     "output_type": "execute_result"
    }
   ],
   "source": [
    "data.head(10)"
   ]
  },
  {
   "cell_type": "markdown",
   "metadata": {},
   "source": [
    "## Simple Linear Regression\n",
    "Now that we have understood the scope of our data, analyzed some of the features and preprocessed some of the NaN values, we can now start building our models. \n",
    "\n",
    "Recall that the linear regression model is in the form of $y = \\theta_0 + \\theta_1 x$ and we want to find the parameters for the corresponding target function. To keep it simple, we will first start out with a simple regression model - a mapping between one value to another. For this example, we will use our lot size to predict the last sold price of the home.\n",
    "\n",
    "First we must setup our variables to feed into the model, we need our input parameters $X$ and the target values $y$ and also reshape the dataset to make sure the dimensions are proper. Let's also print the shape just to make sure everything is consistent."
   ]
  },
  {
   "cell_type": "code",
   "execution_count": 314,
   "metadata": {},
   "outputs": [
    {
     "name": "stdout",
     "output_type": "stream",
     "text": [
      "(184, 1)\n",
      "(184, 1)\n"
     ]
    }
   ],
   "source": [
    "X = data['LOT SIZE'].values.reshape(data['LOT SIZE'].count(),1)\n",
    "y = data['LAST SOLD PRICE'].values.reshape(data['LAST SOLD PRICE'].count(),1)\n",
    "\n",
    "print X.shape\n",
    "print y.shape"
   ]
  },
  {
   "cell_type": "markdown",
   "metadata": {},
   "source": [
    "Now, before we train our data set, we must split our data set into training and validation, as we need to evaluate our model to see how well it performs on accuracy of predicting housing prices.\n",
    "\n",
    "For that, we use a special function provided by scikit learn to help us partition the dataset. This function also shuffles the dataset before hand so that we can get a random sample for each subsample."
   ]
  },
  {
   "cell_type": "code",
   "execution_count": 315,
   "metadata": {
    "collapsed": true
   },
   "outputs": [],
   "source": [
    "X_train, X_test, y_train, y_test = train_test_split(X, y, test_size=0.33, random_state=9892)"
   ]
  },
  {
   "cell_type": "markdown",
   "metadata": {},
   "source": [
    "Now that we have our training and validation (which we will call it testing in our program), we will now start to build our Linear Regression model."
   ]
  },
  {
   "cell_type": "code",
   "execution_count": 316,
   "metadata": {},
   "outputs": [
    {
     "data": {
      "text/plain": [
       "LinearRegression(copy_X=True, fit_intercept=True, n_jobs=1, normalize=False)"
      ]
     },
     "execution_count": 316,
     "metadata": {},
     "output_type": "execute_result"
    }
   ],
   "source": [
    "simp_reg = linear_model.LinearRegression(fit_intercept=True)  # Creates a Scikit Linear Regression Model Object\n",
    "simp_reg.fit(X_train, y_train)  # Train the model on the training dataset."
   ]
  },
  {
   "cell_type": "markdown",
   "metadata": {},
   "source": [
    "Now that we have trained our first model, let's see how well it did and test it against our validation set."
   ]
  },
  {
   "cell_type": "code",
   "execution_count": 317,
   "metadata": {},
   "outputs": [
    {
     "name": "stdout",
     "output_type": "stream",
     "text": [
      "Coefficients: \n",
      "[[ 43.07059549]]\n",
      "Mean squared error: 295412627132.0\n",
      "Variance score: 0.435433041364\n"
     ]
    }
   ],
   "source": [
    "print 'Coefficients: \\n' + str(simp_reg.coef_)\n",
    "# The mean squared error\n",
    "print 'Mean squared error: ' + str(np.mean((simp_reg.predict(X_test) - y_test) ** 2))\n",
    "print 'Variance score: ' + str(simp_reg.score(X_test, y_test))"
   ]
  },
  {
   "cell_type": "markdown",
   "metadata": {},
   "source": [
    "**Congratulations! You trained your first machine learning model!!**\n",
    "\n",
    "But unfortunately it's probably not the best, (whew, that MSE...), because of the features we chose towards our model. As you can see, we have scored around 0.43 variance score (which is pretty low)... :(\n",
    "\n",
    "By the way, **variance score** according to scikit learn's documentation is defined as follows:\n",
    "\n",
    "$$expvar(y, \\hat{y}) = 1 - \\dfrac{Var(y - \\hat{y})}{Var(y)}$$\n",
    "\n",
    "The higher the variance score (meaning, close to 1.0), the better our model is.\n",
    "\n",
    "But worry not, we can do better than this!\n",
    "\n",
    "In order to better imporve our model, one way to handle this issue is to use **better or more features**. Another way to improve this would be to find a dataset with a larger sample size. (But since we can't get any more data, we can only rely on what we are given, for now...)\n",
    "\n",
    "Let's try to use some more features from our dataset, such as:\n",
    "* Bed Count\n",
    "* Bath Count\n",
    "* Days on Market"
   ]
  },
  {
   "cell_type": "code",
   "execution_count": 318,
   "metadata": {},
   "outputs": [
    {
     "name": "stdout",
     "output_type": "stream",
     "text": [
      "(184, 4)\n",
      "(184, 1)\n"
     ]
    }
   ],
   "source": [
    "X = data[['LOT SIZE', 'BEDS', 'BATHS', 'DAYS ON MARKET']].values\n",
    "y = data['LAST SOLD PRICE'].values.reshape(data['LAST SOLD PRICE'].count(),1)\n",
    "\n",
    "print X.shape\n",
    "print y.shape"
   ]
  },
  {
   "cell_type": "markdown",
   "metadata": {},
   "source": [
    "And let's split our data set and train the model!"
   ]
  },
  {
   "cell_type": "code",
   "execution_count": 319,
   "metadata": {},
   "outputs": [
    {
     "name": "stdout",
     "output_type": "stream",
     "text": [
      "Coefficients: \n",
      "[[  1.66243719e+01   7.81617117e+04   2.68432243e+05   3.48409084e+02]]\n",
      "Mean squared error: 68339305680.0\n",
      "Variance score: 0.869395853733\n"
     ]
    }
   ],
   "source": [
    "# Split Dataset\n",
    "X_train, X_test, y_train, y_test = train_test_split(X, y, test_size=0.33, random_state=9892)\n",
    "\n",
    "# Train Linear Model\n",
    "mult_reg = linear_model.LinearRegression(fit_intercept=True)  # Creates a Scikit Linear Regression Model Object\n",
    "mult_reg.fit(X_train, y_train)  # Train the model on the training dataset.\n",
    "\n",
    "# Evaluation\n",
    "print 'Coefficients: \\n' + str(mult_reg.coef_)\n",
    "print 'Mean squared error: ' + str(np.mean((mult_reg.predict(X_test) - y_test) ** 2))\n",
    "print 'Variance score: ' + str(mult_reg.score(X_test, y_test))"
   ]
  },
  {
   "cell_type": "markdown",
   "metadata": {},
   "source": [
    "Wow! With just adding three more features to our training data, we got a huge boost in our variance score!\n",
    "As you can see, the features that you put into the model holds a great significance as to how well your model performs.\n",
    "\n",
    "Remember, it's not always about the algorithms... it's all in the data.\n",
    "\n",
    "Now to wrap this up, let's try predicting how much I should sell my house for according to the model we just made..."
   ]
  },
  {
   "cell_type": "code",
   "execution_count": 340,
   "metadata": {},
   "outputs": [
    {
     "name": "stdout",
     "output_type": "stream",
     "text": [
      "Predicted Price: $784748.595245\n"
     ]
    }
   ],
   "source": [
    "myHome = np.array([[9374.0, 4, 3, 0]])\n",
    "print 'Predicted Price: $' + str(mult_reg.predict(myHome)[0][0])"
   ]
  }
 ],
 "metadata": {
  "kernelspec": {
   "display_name": "Python 3",
   "language": "python",
   "name": "python3"
  },
  "language_info": {
   "codemirror_mode": {
    "name": "ipython",
    "version": 3
   },
   "file_extension": ".py",
   "mimetype": "text/x-python",
   "name": "python",
   "nbconvert_exporter": "python",
   "pygments_lexer": "ipython3",
   "version": "3.7.6"
  }
 },
 "nbformat": 4,
 "nbformat_minor": 1
}
